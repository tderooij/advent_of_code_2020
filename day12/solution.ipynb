{
 "cells": [
  {
   "cell_type": "markdown",
   "metadata": {},
   "source": [
    "## Based on code day 8"
   ]
  },
  {
   "cell_type": "code",
   "execution_count": null,
   "metadata": {},
   "outputs": [],
   "source": [
    "lines = readlines(\"test.txt\");"
   ]
  },
  {
   "cell_type": "code",
   "execution_count": null,
   "metadata": {},
   "outputs": [],
   "source": [
    "function translate_direction(direction, x)\n",
    "    if direction == \"N\"\n",
    "        return 0, x\n",
    "    elseif direction == \"S\"\n",
    "        return 0, -x\n",
    "    elseif direction == \"E\"\n",
    "        return x, 0\n",
    "    elseif direction == \"W\"\n",
    "        return -x, 0\n",
    "    end\n",
    "end"
   ]
  },
  {
   "cell_type": "code",
   "execution_count": null,
   "metadata": {},
   "outputs": [],
   "source": [
    "function change_direction(direction, action, degrees)\n",
    "    directions = [\"N\", \"E\", \"S\", \"W\"]\n",
    "    if action == \"L\"\n",
    "        directions = reverse(directions)\n",
    "    end\n",
    "    \n",
    "    append!(directions, directions)\n",
    "    \n",
    "    start_at = findall(x -> x == direction, directions)[1]\n",
    "    end_at = start_at + Int(degrees/90)\n",
    "    return directions[end_at]\n",
    "end"
   ]
  },
  {
   "cell_type": "code",
   "execution_count": null,
   "metadata": {},
   "outputs": [],
   "source": [
    "function translate_instruction(line, direction)\n",
    "    # Return new direction, progress on x-axis, progress on y-axis\n",
    "    action = line[1:1]\n",
    "    x = line[2:length(line)]\n",
    "    x = parse(Int, x)\n",
    "    \n",
    "    x_trans = 0\n",
    "    y_trans = 0\n",
    "    if action in [\"N\", \"E\", \"S\", \"W\"]\n",
    "        x_trans, y_trans = translate_direction(action, x)\n",
    "    elseif action == \"F\"\n",
    "        x_trans, y_trans = translate_direction(direction, x)\n",
    "    elseif action in [\"L\", \"R\"]\n",
    "        direction = change_direction(direction, action, x)\n",
    "    end\n",
    "    \n",
    "    return direction, x_trans, y_trans\n",
    "end"
   ]
  },
  {
   "cell_type": "code",
   "execution_count": null,
   "metadata": {},
   "outputs": [],
   "source": [
    "function run_instruction_set(instructions)\n",
    "    \"\"\"\n",
    "    Returns:\n",
    "        success (bool): true or false\n",
    "        accumulator (int)\n",
    "    \"\"\"\n",
    "    x_pos = 0\n",
    "    y_pos = 0\n",
    "    direction = \"E\"\n",
    "    for instruction in instructions\n",
    "        direction, x_trans, y_trans = translate_instruction(instruction, direction)\n",
    "        x_pos += x_trans\n",
    "        y_pos += y_trans\n",
    "    end\n",
    "    \n",
    "    return x_pos, y_pos\n",
    "end"
   ]
  },
  {
   "cell_type": "code",
   "execution_count": null,
   "metadata": {},
   "outputs": [],
   "source": [
    "x, y = run_instruction_set(lines)\n",
    "abs(x) + abs(y)"
   ]
  }
 ],
 "metadata": {
  "kernelspec": {
   "display_name": "Julia 1.5.3",
   "language": "julia",
   "name": "julia-1.5"
  },
  "language_info": {
   "file_extension": ".jl",
   "mimetype": "application/julia",
   "name": "julia",
   "version": "1.5.3"
  }
 },
 "nbformat": 4,
 "nbformat_minor": 2
}
