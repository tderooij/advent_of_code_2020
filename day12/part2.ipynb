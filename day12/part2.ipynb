{
 "cells": [
  {
   "cell_type": "markdown",
   "metadata": {},
   "source": [
    "## Based on code part 1"
   ]
  },
  {
   "cell_type": "code",
   "execution_count": null,
   "metadata": {},
   "outputs": [],
   "source": [
    "lines = readlines(\"input.txt\");"
   ]
  },
  {
   "cell_type": "code",
   "execution_count": null,
   "metadata": {},
   "outputs": [],
   "source": [
    "function translate_direction(direction, x)\n",
    "    if direction == \"N\"\n",
    "        return [0, x]\n",
    "    elseif direction == \"S\"\n",
    "        return [0, -x]\n",
    "    elseif direction == \"E\"\n",
    "        return [x, 0]\n",
    "    elseif direction == \"W\"\n",
    "        return [-x, 0]\n",
    "    end\n",
    "end"
   ]
  },
  {
   "cell_type": "code",
   "execution_count": null,
   "metadata": {},
   "outputs": [],
   "source": [
    "function change_direction(w_pos, action, degrees)\n",
    "    A90 = [0 1; -1 0;]\n",
    "    if action == \"R\"\n",
    "        return A90^Int(degrees/90) * w_pos\n",
    "    elseif action == \"L\"\n",
    "        return A90^(4 - Int(degrees/90)) * w_pos\n",
    "    end\n",
    "\n",
    "    return \n",
    "end"
   ]
  },
  {
   "cell_type": "code",
   "execution_count": null,
   "metadata": {},
   "outputs": [],
   "source": [
    "function translate_instruction(w_pos, action, x)\n",
    "    if action in [\"N\", \"E\", \"S\", \"W\"]\n",
    "        trans = translate_direction(action, x)\n",
    "        return w_pos + trans\n",
    "    elseif action in [\"L\", \"R\"]\n",
    "        return change_direction(w_pos, action, x)\n",
    "    end\n",
    "end"
   ]
  },
  {
   "cell_type": "code",
   "execution_count": null,
   "metadata": {},
   "outputs": [],
   "source": [
    "function run_instruction_set(instructions)\n",
    "    \"\"\"\n",
    "    Returns:\n",
    "        success (bool): true or false\n",
    "        accumulator (int)\n",
    "    \"\"\"\n",
    "    w_pos = [10, 1]\n",
    "    s_pos = [0, 0]\n",
    "\n",
    "    for instruction in instructions\n",
    "        action = instruction[1:1]\n",
    "        x = parse(Int, instruction[2:length(instruction)])\n",
    "        \n",
    "        if instruction[1:1] == \"F\"\n",
    "            s_pos += x * w_pos\n",
    "        else\n",
    "            w_pos = translate_instruction(w_pos, action, x) \n",
    "        end\n",
    "    end\n",
    "    \n",
    "    return s_pos\n",
    "end"
   ]
  },
  {
   "cell_type": "code",
   "execution_count": null,
   "metadata": {},
   "outputs": [],
   "source": [
    "coords = run_instruction_set(lines)\n",
    "abs(coords[1]) + abs(coords[2])"
   ]
  }
 ],
 "metadata": {
  "kernelspec": {
   "display_name": "Julia 1.5.3",
   "language": "julia",
   "name": "julia-1.5"
  },
  "language_info": {
   "file_extension": ".jl",
   "mimetype": "application/julia",
   "name": "julia",
   "version": "1.5.3"
  }
 },
 "nbformat": 4,
 "nbformat_minor": 2
}
