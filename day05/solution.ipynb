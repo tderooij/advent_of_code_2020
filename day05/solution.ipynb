{
 "cells": [
  {
   "cell_type": "code",
   "execution_count": null,
   "metadata": {},
   "outputs": [],
   "source": [
    "# Read boarding passes\n",
    "bps = readlines(\"input.txt\");"
   ]
  },
  {
   "cell_type": "code",
   "execution_count": null,
   "metadata": {},
   "outputs": [],
   "source": [
    "seat_ids = []\n",
    "for bp in bps\n",
    "    for (l, n) in [(\"F\", \"0\"), (\"B\", \"1\"), (\"L\", \"0\"), (\"R\", \"1\")]\n",
    "        bp = replace(bp, l => n)\n",
    "    end\n",
    "    seat = parse(Int, bp, base=2)\n",
    "    append!(seat_ids, seat)\n",
    "end"
   ]
  },
  {
   "cell_type": "code",
   "execution_count": null,
   "metadata": {},
   "outputs": [],
   "source": [
    "print(maximum(seat_ids))"
   ]
  },
  {
   "cell_type": "code",
   "execution_count": null,
   "metadata": {},
   "outputs": [],
   "source": [
    "setdiff(Set(minimum(seat_ids):maximum(seat_ids)), Set(seat_ids))"
   ]
  }
 ],
 "metadata": {
  "kernelspec": {
   "display_name": "Julia 1.5.3",
   "language": "julia",
   "name": "julia-1.5"
  },
  "language_info": {
   "file_extension": ".jl",
   "mimetype": "application/julia",
   "name": "julia",
   "version": "1.5.3"
  }
 },
 "nbformat": 4,
 "nbformat_minor": 2
}
