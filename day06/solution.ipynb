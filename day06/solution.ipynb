{
 "cells": [
  {
   "cell_type": "code",
   "execution_count": null,
   "metadata": {},
   "outputs": [],
   "source": [
    "input =  readlines(\"input.txt\");\n",
    "append!(input, [\"\"]);"
   ]
  },
  {
   "cell_type": "code",
   "execution_count": null,
   "metadata": {},
   "outputs": [],
   "source": [
    "# Copied from day 4\n",
    "function split_passports(pps)\n",
    "    splits = [i for i in 1:length(pps) if pps[i] == \"\"]\n",
    "    splitted = []\n",
    "    i = 1\n",
    "    for el in splits\n",
    "        pp = pps[i:el-1]\n",
    "        i = el + 1\n",
    "        z = Set()\n",
    "        for p in pp\n",
    "            union!(z, Set(p))\n",
    "        end\n",
    "        if length(pp) > 0\n",
    "            append!(splitted, [z])\n",
    "        end\n",
    "    end\n",
    "    return splitted\n",
    "end"
   ]
  },
  {
   "cell_type": "code",
   "execution_count": null,
   "metadata": {},
   "outputs": [],
   "source": [
    "anyone = split_passports(input);"
   ]
  },
  {
   "cell_type": "code",
   "execution_count": null,
   "metadata": {},
   "outputs": [],
   "source": [
    "sum([length(el) for el in anyone])"
   ]
  }
 ],
 "metadata": {
  "kernelspec": {
   "display_name": "Julia 1.5.3",
   "language": "julia",
   "name": "julia-1.5"
  },
  "language_info": {
   "file_extension": ".jl",
   "mimetype": "application/julia",
   "name": "julia",
   "version": "1.5.3"
  }
 },
 "nbformat": 4,
 "nbformat_minor": 2
}
