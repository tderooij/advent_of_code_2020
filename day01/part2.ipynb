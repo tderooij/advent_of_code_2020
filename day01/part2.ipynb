{
 "cells": [
  {
   "cell_type": "code",
   "execution_count": null,
   "metadata": {},
   "outputs": [],
   "source": [
    "words = readlines(\"input.txt\");"
   ]
  },
  {
   "cell_type": "code",
   "execution_count": null,
   "metadata": {},
   "outputs": [],
   "source": [
    "numbers = sort([parse(Int32, x) for x in words]);"
   ]
  },
  {
   "cell_type": "code",
   "execution_count": null,
   "metadata": {},
   "outputs": [],
   "source": [
    "@time begin\n",
    "for i in numbers\n",
    "    for j in numbers\n",
    "        if i + j >= 2020\n",
    "            break\n",
    "        end\n",
    "        for k in numbers\n",
    "            if i + j + k == 2020\n",
    "                answer = i * j * k\n",
    "                print(i, \"\\n\", j, \"\\n\", k, \"\\n answer: \", answer, \"\\n\")\n",
    "            elseif i + j + k > 2020\n",
    "                break\n",
    "            end\n",
    "        end\n",
    "    end\n",
    "end\n",
    "end"
   ]
  }
 ],
 "metadata": {
  "kernelspec": {
   "display_name": "Julia 1.5.3",
   "language": "julia",
   "name": "julia-1.5"
  },
  "language_info": {
   "file_extension": ".jl",
   "mimetype": "application/julia",
   "name": "julia",
   "version": "1.5.3"
  }
 },
 "nbformat": 4,
 "nbformat_minor": 2
}
