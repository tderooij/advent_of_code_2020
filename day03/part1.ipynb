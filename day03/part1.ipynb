{
 "cells": [
  {
   "cell_type": "code",
   "execution_count": null,
   "metadata": {},
   "outputs": [],
   "source": [
    "words = readlines(\"map.txt\");"
   ]
  },
  {
   "cell_type": "code",
   "execution_count": null,
   "metadata": {},
   "outputs": [],
   "source": [
    "i = 0\n",
    "words2=[]\n",
    "max_value = length(words[1])\n",
    "for y in 1:length(words)\n",
    "    x = (3*(y - 1) + 1) % max_value\n",
    "    if x == 0\n",
    "        x = max_value\n",
    "    end\n",
    "    col = words[y]\n",
    "    replace = \"O\"\n",
    "    if col[x] == \"#\"[1]\n",
    "        i += 1\n",
    "        replace = \"X\"\n",
    "    end\n",
    "    \n",
    "    if x == 1\n",
    "        add = string(replace, col[x+1:max_value])\n",
    "    elseif x == max_value\n",
    "        add = string(col[1:max_value-1], replace)\n",
    "    else\n",
    "        add = string(col[1:x-1], replace, col[x+1:max_value])\n",
    "    end\n",
    "    append!(words2, [add])\n",
    "end"
   ]
  },
  {
   "cell_type": "code",
   "execution_count": null,
   "metadata": {},
   "outputs": [],
   "source": [
    "print(i)"
   ]
  },
  {
   "cell_type": "markdown",
   "metadata": {},
   "source": [
    "Write output"
   ]
  },
  {
   "cell_type": "code",
   "execution_count": null,
   "metadata": {},
   "outputs": [],
   "source": [
    "open(\"map2.txt\", \"w\") do f\n",
    "    for line in words2\n",
    "        write(f, line)\n",
    "        write(f, \"\\n\")\n",
    "    end\n",
    "end"
   ]
  }
 ],
 "metadata": {
  "kernelspec": {
   "display_name": "Julia 1.5.3",
   "language": "julia",
   "name": "julia-1.5"
  },
  "language_info": {
   "file_extension": ".jl",
   "mimetype": "application/julia",
   "name": "julia",
   "version": "1.5.3"
  }
 },
 "nbformat": 4,
 "nbformat_minor": 2
}
