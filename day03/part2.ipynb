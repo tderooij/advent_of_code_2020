{
 "cells": [
  {
   "cell_type": "code",
   "execution_count": null,
   "metadata": {},
   "outputs": [],
   "source": [
    "words = readlines(\"map.txt\");"
   ]
  },
  {
   "cell_type": "code",
   "execution_count": null,
   "metadata": {},
   "outputs": [],
   "source": [
    "function slope(lines, x_slope, y_slope)\n",
    "    i = 0\n",
    "    lines_marked=[]\n",
    "    max_value = length(lines[1])\n",
    "    for j in 1:length(lines)\n",
    "        y = (y_slope * (j - 1)) + 1\n",
    "        if y > length(lines)\n",
    "            break\n",
    "        end\n",
    "        x = (x_slope * (j - 1) + 1) % max_value\n",
    "        if x == 0\n",
    "            x = max_value\n",
    "        end\n",
    "        col = words[y]\n",
    "        replace = \"O\"\n",
    "        if col[x] == \"#\"[1]\n",
    "            i += 1\n",
    "            replace = \"X\"\n",
    "        end\n",
    "\n",
    "        if x == 1\n",
    "            add = string(replace, col[x+1:max_value])\n",
    "        elseif x == max_value\n",
    "            add = string(col[1:max_value-1], replace)\n",
    "        else\n",
    "            add = string(col[1:x-1], replace, col[x+1:max_value])\n",
    "        end\n",
    "        append!(lines_marked, [add])\n",
    "        if (y_slope == 2) & (y < max_value)\n",
    "            append!(lines_marked, [words[y+1]])\n",
    "        end\n",
    "    end\n",
    "    \n",
    "    return i, lines_marked\n",
    "end"
   ]
  },
  {
   "cell_type": "markdown",
   "metadata": {},
   "source": [
    "Write output"
   ]
  },
  {
   "cell_type": "code",
   "execution_count": null,
   "metadata": {},
   "outputs": [],
   "source": [
    "numbers = []\n",
    "for (x, y) in [(1,1), (3,1), (5,1), (7,1), (1,2)]\n",
    "    filename = string(\"map_right-\", x, \"_down-\", y, \".txt\")\n",
    "    i, output = slope(words, x, y)\n",
    "    \n",
    "    # Store number of X's\n",
    "    append!(numbers, [i])\n",
    "    \n",
    "    # Write output\n",
    "    open(filename, \"w\") do f\n",
    "        for line in output\n",
    "            write(f, line)\n",
    "            write(f, \"\\n\")\n",
    "        end\n",
    "    end\n",
    "end"
   ]
  },
  {
   "cell_type": "code",
   "execution_count": null,
   "metadata": {},
   "outputs": [],
   "source": [
    "print(prod(numbers))"
   ]
  }
 ],
 "metadata": {
  "kernelspec": {
   "display_name": "Julia 1.5.3",
   "language": "julia",
   "name": "julia-1.5"
  },
  "language_info": {
   "file_extension": ".jl",
   "mimetype": "application/julia",
   "name": "julia",
   "version": "1.5.3"
  }
 },
 "nbformat": 4,
 "nbformat_minor": 2
}
