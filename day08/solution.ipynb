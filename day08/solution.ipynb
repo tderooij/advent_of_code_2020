{
 "cells": [
  {
   "cell_type": "code",
   "execution_count": null,
   "metadata": {},
   "outputs": [],
   "source": [
    "lines = readlines(\"input.txt\");\n",
    "append!(lines, [\"exit\"]);"
   ]
  },
  {
   "cell_type": "code",
   "execution_count": null,
   "metadata": {},
   "outputs": [],
   "source": [
    "function translate_instruction(line)\n",
    "    action, x = split(line, \" \")\n",
    "    x2 = parse(Int, x)\n",
    "    if action == \"nop\"\n",
    "        return 0, 1\n",
    "    elseif action == \"acc\"\n",
    "        return x2, 1\n",
    "    elseif action == \"jmp\"\n",
    "        return 0, x2\n",
    "    end\n",
    "end"
   ]
  },
  {
   "cell_type": "code",
   "execution_count": null,
   "metadata": {},
   "outputs": [],
   "source": [
    "function run_instruction_set(instructions)\n",
    "    \"\"\"\n",
    "    Returns:\n",
    "        success (bool): true or false\n",
    "        accumulator (int)\n",
    "    \"\"\"\n",
    "    accumulator = 0\n",
    "    actions=zeros(Int, 0)\n",
    "    position = 1\n",
    "    counter = zeros(Int, length(instructions))\n",
    "\n",
    "    while true\n",
    "        line = instructions[position]\n",
    "        counter[position] += 1\n",
    "        if maximum(counter) == 2\n",
    "            return false, accumulator, actions\n",
    "        elseif line == \"exit\"\n",
    "            return true, accumulator, actions\n",
    "        end\n",
    "\n",
    "        append!(actions, [position])\n",
    "        dacc, dpos = translate_instruction(line)\n",
    "        accumulator += dacc\n",
    "        position += dpos\n",
    "    end\n",
    "end"
   ]
  },
  {
   "cell_type": "code",
   "execution_count": null,
   "metadata": {},
   "outputs": [],
   "source": [
    "(succeeded, accumulator, actions) = run_instruction_set(lines)"
   ]
  },
  {
   "cell_type": "code",
   "execution_count": null,
   "metadata": {},
   "outputs": [],
   "source": [
    "function update_instruction_set(instructions, encountered, tried)\n",
    "    for e in reverse(encountered)\n",
    "        if !(e in tried)\n",
    "            if \"nop\" == first(instructions[e], 3)\n",
    "                instructions[e] = replace(instructions[e], \"nop\" => \"jmp\")\n",
    "                return instructions, e\n",
    "            elseif \"jmp\" == first(instructions[e], 3)\n",
    "                instructions[e] = replace(instructions[e], \"jmp\" => \"nop\")\n",
    "                return instructions, e\n",
    "            else\n",
    "                continue\n",
    "            end\n",
    "        end\n",
    "    end\n",
    "end"
   ]
  },
  {
   "cell_type": "code",
   "execution_count": null,
   "metadata": {},
   "outputs": [],
   "source": [
    "succeeded = false\n",
    "tried = []\n",
    "first_run = true\n",
    "actions = []\n",
    "while !succeeded\n",
    "    if first_run == false\n",
    "        instructions, changed = update_instruction_set(copy(lines), actions, tried)\n",
    "        append!(tried, [changed])\n",
    "    else\n",
    "        instructions = copy(lines)\n",
    "        first_run = false\n",
    "    end\n",
    "    (succeeded, accumulator, actions) = run_instruction_set(instructions)\n",
    "end"
   ]
  },
  {
   "cell_type": "code",
   "execution_count": null,
   "metadata": {},
   "outputs": [],
   "source": [
    "accumulator"
   ]
  }
 ],
 "metadata": {
  "kernelspec": {
   "display_name": "Julia 1.5.3",
   "language": "julia",
   "name": "julia-1.5"
  },
  "language_info": {
   "file_extension": ".jl",
   "mimetype": "application/julia",
   "name": "julia",
   "version": "1.5.3"
  }
 },
 "nbformat": 4,
 "nbformat_minor": 2
}
