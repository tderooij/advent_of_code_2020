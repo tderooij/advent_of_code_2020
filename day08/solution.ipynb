{
 "cells": [
  {
   "cell_type": "code",
   "execution_count": null,
   "metadata": {},
   "outputs": [],
   "source": [
    "lines = readlines(\"input.txt\");"
   ]
  },
  {
   "cell_type": "code",
   "execution_count": null,
   "metadata": {},
   "outputs": [],
   "source": [
    "function translate_instruction(line)\n",
    "    action, x = split(line, \" \")\n",
    "    x2 = parse(Int, x)\n",
    "    if action == \"nop\"\n",
    "        return 0, 1\n",
    "    elseif action == \"acc\"\n",
    "        return x2, 1\n",
    "    elseif action == \"jmp\"\n",
    "        return 0, x2\n",
    "    end\n",
    "end"
   ]
  },
  {
   "cell_type": "code",
   "execution_count": null,
   "metadata": {},
   "outputs": [],
   "source": [
    "accumulator = 0\n",
    "actions=[]\n",
    "position = 1\n",
    "counter = zeros(Int, length(lines))\n",
    "while true\n",
    "    line = lines[position]\n",
    "    counter[position] += 1\n",
    "    if maximum(counter) == 2\n",
    "        break\n",
    "    end\n",
    "    \n",
    "    append!(actions, [string(position, \" \", line)])\n",
    "    dacc, dpos = translate_instruction(line)\n",
    "    accumulator += dacc\n",
    "    position += dpos\n",
    "end"
   ]
  },
  {
   "cell_type": "code",
   "execution_count": null,
   "metadata": {},
   "outputs": [],
   "source": [
    "accumulator"
   ]
  }
 ],
 "metadata": {
  "kernelspec": {
   "display_name": "Julia 1.5.3",
   "language": "julia",
   "name": "julia-1.5"
  },
  "language_info": {
   "file_extension": ".jl",
   "mimetype": "application/julia",
   "name": "julia",
   "version": "1.5.3"
  }
 },
 "nbformat": 4,
 "nbformat_minor": 2
}
