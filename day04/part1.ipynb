{
 "cells": [
  {
   "cell_type": "code",
   "execution_count": null,
   "metadata": {},
   "outputs": [],
   "source": [
    "# Read passports\n",
    "pps = readlines(\"input.txt\");\n",
    "mandatory_keys = Set([\"byr\", \"iyr\", \"eyr\", \"hgt\", \"hcl\", \"ecl\", \"pid\"]);"
   ]
  },
  {
   "cell_type": "code",
   "execution_count": null,
   "metadata": {},
   "outputs": [],
   "source": [
    "# Add empty line at end\n",
    "append!(pps, [\"\"]);"
   ]
  },
  {
   "cell_type": "code",
   "execution_count": null,
   "metadata": {},
   "outputs": [],
   "source": [
    "function passport_to_dict(pp)\n",
    "    return Dict([split(el, \":\") for el in split(pp, \" \")])\n",
    "end"
   ]
  },
  {
   "cell_type": "code",
   "execution_count": null,
   "metadata": {},
   "outputs": [],
   "source": [
    "function get_passport(pp)\n",
    "    passport = \"\"\n",
    "    for l in pp\n",
    "        passport = string(passport, l, \" \")\n",
    "    end\n",
    "    if length(passport) > 0\n",
    "        passport = first(passport, length(passport) - 1)\n",
    "        return passport_to_dict(passport)\n",
    "    end\n",
    "end"
   ]
  },
  {
   "cell_type": "code",
   "execution_count": null,
   "metadata": {},
   "outputs": [],
   "source": [
    "function split_passports(pps)\n",
    "    splits = [i for i in 1:length(pps) if pps[i] == \"\"]\n",
    "    splitted = []\n",
    "    i = 1\n",
    "    for el in splits\n",
    "        pp = pps[i:el-1]\n",
    "        i = el + 1\n",
    "        if length(pp) > 0\n",
    "            append!(splitted, [get_passport(pp)])\n",
    "        end\n",
    "    end\n",
    "    return splitted\n",
    "end"
   ]
  },
  {
   "cell_type": "code",
   "execution_count": null,
   "metadata": {},
   "outputs": [],
   "source": [
    "pps_dict = split_passports(pps)\n",
    "i = 0\n",
    "for pp in pps_dict\n",
    "    if intersect(Set(keys(pp)), mandatory_keys) == mandatory_keys\n",
    "        i += 1\n",
    "    end\n",
    "end"
   ]
  },
  {
   "cell_type": "code",
   "execution_count": null,
   "metadata": {},
   "outputs": [],
   "source": [
    "print(i)"
   ]
  }
 ],
 "metadata": {
  "kernelspec": {
   "display_name": "Julia 1.5.3",
   "language": "julia",
   "name": "julia-1.5"
  },
  "language_info": {
   "file_extension": ".jl",
   "mimetype": "application/julia",
   "name": "julia",
   "version": "1.5.3"
  }
 },
 "nbformat": 4,
 "nbformat_minor": 2
}
