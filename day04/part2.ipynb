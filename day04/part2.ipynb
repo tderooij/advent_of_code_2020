{
 "cells": [
  {
   "cell_type": "code",
   "execution_count": null,
   "metadata": {},
   "outputs": [],
   "source": [
    "# Read passports\n",
    "pps = readlines(\"input.txt\");\n",
    "mandatory_keys = Set([\"byr\", \"iyr\", \"eyr\", \"hgt\", \"hcl\", \"ecl\", \"pid\"]);"
   ]
  },
  {
   "cell_type": "code",
   "execution_count": null,
   "metadata": {},
   "outputs": [],
   "source": [
    "# Add empty line at end\n",
    "append!(pps, [\"\"]);"
   ]
  },
  {
   "cell_type": "code",
   "execution_count": null,
   "metadata": {},
   "outputs": [],
   "source": [
    "function passport_to_dict(pp)\n",
    "    return Dict([split(el, \":\") for el in split(pp, \" \")])\n",
    "end"
   ]
  },
  {
   "cell_type": "code",
   "execution_count": null,
   "metadata": {},
   "outputs": [],
   "source": [
    "function get_passport(pp)\n",
    "    passport = \"\"\n",
    "    for l in pp\n",
    "        passport = string(passport, l, \" \")\n",
    "    end\n",
    "    if length(passport) > 0\n",
    "        passport = first(passport, length(passport) - 1)\n",
    "        return passport_to_dict(passport)\n",
    "    end\n",
    "end"
   ]
  },
  {
   "cell_type": "code",
   "execution_count": null,
   "metadata": {},
   "outputs": [],
   "source": [
    "function split_passports(pps)\n",
    "    splits = [i for i in 1:length(pps) if pps[i] == \"\"]\n",
    "    splitted = []\n",
    "    i = 1\n",
    "    for el in splits\n",
    "        pp = pps[i:el-1]\n",
    "        i = el + 1\n",
    "        if length(pp) > 0\n",
    "            append!(splitted, [get_passport(pp)])\n",
    "        end\n",
    "    end\n",
    "    return splitted\n",
    "end"
   ]
  },
  {
   "cell_type": "code",
   "execution_count": null,
   "metadata": {},
   "outputs": [],
   "source": [
    "function is_valid_passport(pp)\n",
    "    if intersect(Set(keys(pp)), mandatory_keys) != mandatory_keys\n",
    "        return false\n",
    "    end\n",
    "    \n",
    "    # Check birth year\n",
    "    byr = pop!(pp, \"byr\")\n",
    "    byr = parse(Int32, byr)\n",
    "    if (byr < 1920) | (byr > 2002)\n",
    "        return false\n",
    "    end\n",
    "\n",
    "    # Check issue year\n",
    "    iyr = pop!(pp, \"iyr\")\n",
    "    iyr = parse(Int32, iyr)\n",
    "    if (iyr < 2010) | (iyr > 2020)\n",
    "        return false\n",
    "    end\n",
    "    \n",
    "    # Check expiration year\n",
    "    eyr = pop!(pp, \"eyr\")\n",
    "    eyr = parse(Int32, eyr)\n",
    "    if (eyr < 2020) | (eyr > 2030)\n",
    "        return false\n",
    "    end\n",
    "    \n",
    "    # Check height\n",
    "    hgt = pop!(pp, \"hgt\")\n",
    "    unit = hgt[length(hgt)-1:length(hgt)]\n",
    "    if !(unit in [\"cm\", \"in\"])\n",
    "        return false\n",
    "    end\n",
    "    hgt = parse(Int16, hgt[1:length(hgt)-2])\n",
    "    if (unit == \"cm\") & ((hgt < 150) | (hgt > 193))\n",
    "        return false\n",
    "    elseif (unit == \"in\") & ((hgt < 59) | (hgt > 76))\n",
    "        return false\n",
    "    end\n",
    "    \n",
    "    # Check hair color\n",
    "    hcl = pop!(pp, \"hcl\")\n",
    "    if hcl[1] != \"#\"[1]\n",
    "        return false\n",
    "    elseif length(hcl) != 7\n",
    "        return false\n",
    "    elseif tryparse(Int, hcl[2:length(hcl)], base=16) == nothing\n",
    "        return false\n",
    "    end\n",
    "    \n",
    "    # Check eye color\n",
    "    eyecolors = [\"amb\", \"blu\", \"brn\", \"gry\", \"grn\", \"hzl\", \"oth\"]\n",
    "    ecl = pop!(pp, \"ecl\")\n",
    "    if !(ecl in eyecolors)\n",
    "        return false\n",
    "    end\n",
    "    \n",
    "    # Check passport id\n",
    "    pid = pop!(pp, \"pid\")\n",
    "    if length(pid) != 9\n",
    "        return false\n",
    "    elseif tryparse(Int, pid, base=16) == nothing\n",
    "        return false\n",
    "    end\n",
    "    \n",
    "    return true\n",
    "end"
   ]
  },
  {
   "cell_type": "code",
   "execution_count": null,
   "metadata": {},
   "outputs": [],
   "source": [
    "pps_dict = split_passports(pps)\n",
    "i = 0\n",
    "for pp in pps_dict\n",
    "    if is_valid_passport(pp)\n",
    "        i += 1\n",
    "    end\n",
    "end"
   ]
  },
  {
   "cell_type": "code",
   "execution_count": null,
   "metadata": {},
   "outputs": [],
   "source": [
    "print(i)"
   ]
  }
 ],
 "metadata": {
  "kernelspec": {
   "display_name": "Julia 1.5.3",
   "language": "julia",
   "name": "julia-1.5"
  },
  "language_info": {
   "file_extension": ".jl",
   "mimetype": "application/julia",
   "name": "julia",
   "version": "1.5.3"
  }
 },
 "nbformat": 4,
 "nbformat_minor": 2
}
