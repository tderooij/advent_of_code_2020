{
 "cells": [
  {
   "cell_type": "code",
   "execution_count": null,
   "metadata": {},
   "outputs": [],
   "source": [
    "import networkx as nx"
   ]
  },
  {
   "cell_type": "code",
   "execution_count": null,
   "metadata": {},
   "outputs": [],
   "source": [
    "G = nx.MultiDiGraph()"
   ]
  },
  {
   "cell_type": "code",
   "execution_count": null,
   "metadata": {},
   "outputs": [],
   "source": [
    "with open(\"test.txt\") as rules:\n",
    "    for line in rules:\n",
    "        source, targets = line[:-2].split(\"s contain \")\n",
    "        if \"no other bag\" in targets:\n",
    "            continue\n",
    "        targets = [el[:-1] if el.endswith(\"s\") else el for el in targets.split(\", \")]\n",
    "        for target in targets:\n",
    "            number = int(target.split(\" \")[0])\n",
    "            t = target.split(\" \", 1)[1]\n",
    "            G.add_edge(source, t, number=number, rule=line)"
   ]
  },
  {
   "cell_type": "code",
   "execution_count": null,
   "metadata": {},
   "outputs": [],
   "source": [
    "sol = []\n",
    "for s in set(G.nodes) - set([\"shiny gold bag\"]):\n",
    "    try:\n",
    "        nx.shortest_path(G, s, \"shiny gold bag\")\n",
    "        sol.append(s)\n",
    "    except nx.NetworkXNoPath:\n",
    "        continue"
   ]
  },
  {
   "cell_type": "code",
   "execution_count": null,
   "metadata": {},
   "outputs": [],
   "source": [
    "sol"
   ]
  }
 ],
 "metadata": {
  "kernelspec": {
   "display_name": "Python 3.7.4 64-bit ('sbppython': conda)",
   "language": "python",
   "name": "python37464bitsbppythonconda2a236e878562431c9dc827ba59f89c83"
  },
  "language_info": {
   "codemirror_mode": {
    "name": "ipython",
    "version": 3
   },
   "file_extension": ".py",
   "mimetype": "text/x-python",
   "name": "python",
   "nbconvert_exporter": "python",
   "pygments_lexer": "ipython3",
   "version": "3.7.4"
  }
 },
 "nbformat": 4,
 "nbformat_minor": 2
}
