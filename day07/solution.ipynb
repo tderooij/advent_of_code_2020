{
 "cells": [
  {
   "cell_type": "code",
   "execution_count": null,
   "metadata": {},
   "outputs": [],
   "source": [
    "import networkx as nx"
   ]
  },
  {
   "cell_type": "code",
   "execution_count": null,
   "metadata": {},
   "outputs": [],
   "source": [
    "G = nx.MultiDiGraph()"
   ]
  },
  {
   "cell_type": "code",
   "execution_count": null,
   "metadata": {},
   "outputs": [],
   "source": [
    "with open(\"test.txt\") as rules:\n",
    "    for line in rules:\n",
    "        source, targets = line[:-2].split(\"s contain \")\n",
    "        if \"no other bag\" in targets:\n",
    "            G.add_edge(source, \"no\", key=line, number=0)\n",
    "            continue\n",
    "        targets = [el[:-1] if el.endswith(\"s\") else el for el in targets.split(\", \")]\n",
    "        for target in targets:\n",
    "            number = int(target.split(\" \")[0])\n",
    "            t = target.split(\" \", 1)[1]\n",
    "            G.add_edge(source, t, number=number, key=line)"
   ]
  },
  {
   "cell_type": "markdown",
   "metadata": {},
   "source": [
    "Part 2"
   ]
  },
  {
   "cell_type": "code",
   "execution_count": null,
   "metadata": {},
   "outputs": [],
   "source": [
    "from networkx import all_shortest_paths"
   ]
  },
  {
   "cell_type": "code",
   "execution_count": null,
   "metadata": {},
   "outputs": [],
   "source": [
    "summed = 0\n",
    "for path in all_shortest_paths(G, \"shiny gold bag\", \"no\"):\n",
    "    print(path)\n",
    "    path=list(reversed(path))\n",
    "    path_prod = 1\n",
    "    for i in range(len(path) - 1):\n",
    "        print(path[i], path[i+1])\n",
    "        rule = G.get_edge_data(path[i+1], path[i])\n",
    "        if len(rule) > 1:\n",
    "            raise NotImplemented(f\"Not implemented: multiple rules, see path {path}\")\n",
    "        mult = rule.get(list(rule.keys())[0]).get(\"number\")\n",
    "        print(mult)\n",
    "        if mult == 0:\n",
    "            continue\n",
    "\n",
    "        path_prod = mult\n",
    "        if path[i] != \"shiny gold bag\":\n",
    "            path_prod += mult\n",
    "        print(\"prod \", path_prod)\n",
    "    summed += path_prod"
   ]
  },
  {
   "cell_type": "code",
   "execution_count": null,
   "metadata": {},
   "outputs": [],
   "source": [
    "summed"
   ]
  },
  {
   "cell_type": "markdown",
   "metadata": {},
   "source": [
    "Part 1"
   ]
  },
  {
   "cell_type": "code",
   "execution_count": null,
   "metadata": {},
   "outputs": [],
   "source": [
    "sol = []\n",
    "for s in set(G.nodes) - set([\"shiny gold bag\", \"no\"]):\n",
    "    try:\n",
    "        nx.shortest_path(G, s, \"shiny gold bag\")\n",
    "        sol.append(s)\n",
    "    except nx.NetworkXNoPath:\n",
    "        continue"
   ]
  },
  {
   "cell_type": "code",
   "execution_count": null,
   "metadata": {},
   "outputs": [],
   "source": [
    "len(sol)"
   ]
  }
 ],
 "metadata": {
  "kernelspec": {
   "display_name": "Python 3.7.4 64-bit ('sbppython': conda)",
   "language": "python",
   "name": "python37464bitsbppythonconda2a236e878562431c9dc827ba59f89c83"
  },
  "language_info": {
   "codemirror_mode": {
    "name": "ipython",
    "version": 3
   },
   "file_extension": ".py",
   "mimetype": "text/x-python",
   "name": "python",
   "nbconvert_exporter": "python",
   "pygments_lexer": "ipython3",
   "version": "3.7.4"
  }
 },
 "nbformat": 4,
 "nbformat_minor": 2
}
