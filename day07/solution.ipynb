{
 "cells": [
  {
   "cell_type": "code",
   "execution_count": null,
   "metadata": {},
   "outputs": [],
   "source": [
    "import networkx as nx\n",
    "import numpy as np"
   ]
  },
  {
   "cell_type": "code",
   "execution_count": null,
   "metadata": {},
   "outputs": [],
   "source": [
    "G = nx.DiGraph()\n",
    "with open(\"input.txt\") as rules:\n",
    "    for line in rules:\n",
    "        source, targets = line[:-2].split(\"s contain \")\n",
    "        if \"no other bag\" in targets:\n",
    "            G.add_edge(source, \"no\", key=line, number=0)\n",
    "            continue\n",
    "        targets = [el[:-1] if el.endswith(\"s\") else el for el in targets.split(\", \")]\n",
    "        for target in targets:\n",
    "            number = int(target.split(\" \")[0])\n",
    "            t = target.split(\" \", 1)[1]\n",
    "            G.add_edge(source, t, number=number, key=line)"
   ]
  },
  {
   "cell_type": "markdown",
   "metadata": {},
   "source": [
    "Part 2"
   ]
  },
  {
   "cell_type": "code",
   "execution_count": null,
   "metadata": {},
   "outputs": [],
   "source": [
    "def prod(a):\n",
    "    prod = 1\n",
    "    for i, b in enumerate(reversed(a)):\n",
    "        prod *= b\n",
    "        if i > 0:\n",
    "            prod += b\n",
    "    return prod"
   ]
  },
  {
   "cell_type": "code",
   "execution_count": null,
   "metadata": {},
   "outputs": [],
   "source": [
    "summed = 0\n",
    "in_bag = []\n",
    "\n",
    "def get_paths(source):\n",
    "    return list(nx.all_simple_paths(G, source, \"no\"))\n",
    "\n",
    "nodes = set()\n",
    "for path in get_paths(\"shiny gold bag\"):\n",
    "    nodes |= set(path)    "
   ]
  },
  {
   "cell_type": "code",
   "execution_count": null,
   "metadata": {},
   "outputs": [],
   "source": [
    "k = G.subgraph(list(nodes))\n",
    "\n",
    "source = \"shiny gold bag\"\n",
    "\n",
    "def add_bag(source, number_of_times):\n",
    "    print(f\"-- Add '{source}' {number_of_times} times\")\n",
    "    \n",
    "    add_bags_l = []\n",
    "    add_bags_l_names = []\n",
    "    e = [el for el in k.edges() if el[0] == source]\n",
    "    for f in e:\n",
    "        times = k.get_edge_data(f[0], f[1]).get(\"number\")\n",
    "        add_bags_l_names.append(f[1])\n",
    "        if times == 0:\n",
    "            print(f\"\\t{source} does not contain bags\")\n",
    "        else:\n",
    "            print(f\"\\t{source} contains {times} {f[1]}s\")\n",
    "            add_bags_l.append(number_of_times * add_bag(source = f[1], number_of_times=times))\n",
    "    summed = sum(add_bags_l) + number_of_times\n",
    "    print(f\"== Added '{source}' {number_of_times} times, resulting in {summed} bags: {add_bags_l} {add_bags_l_names}.\")\n",
    "    return summed\n"
   ]
  },
  {
   "cell_type": "code",
   "execution_count": null,
   "metadata": {},
   "outputs": [],
   "source": [
    "number_of_bags = add_bag(\"shiny gold bag\", 1)"
   ]
  },
  {
   "cell_type": "code",
   "execution_count": null,
   "metadata": {},
   "outputs": [],
   "source": [
    "number_of_bags - 1 # Subtract the shiny gold bag"
   ]
  },
  {
   "cell_type": "markdown",
   "metadata": {},
   "source": [
    "Part 1"
   ]
  },
  {
   "cell_type": "code",
   "execution_count": null,
   "metadata": {},
   "outputs": [],
   "source": [
    "sol = []\n",
    "for s in set(G.nodes) - set([\"shiny gold bag\", \"no\"]):\n",
    "    try:\n",
    "        nx.shortest_path(G, s, \"shiny gold bag\")\n",
    "        sol.append(s)\n",
    "    except nx.NetworkXNoPath:\n",
    "        continue"
   ]
  },
  {
   "cell_type": "code",
   "execution_count": null,
   "metadata": {},
   "outputs": [],
   "source": [
    "len(sol)"
   ]
  }
 ],
 "metadata": {
  "kernelspec": {
   "display_name": "Python 3.7.4 64-bit ('sbppython': conda)",
   "language": "python",
   "name": "python37464bitsbppythonconda2a236e878562431c9dc827ba59f89c83"
  },
  "language_info": {
   "codemirror_mode": {
    "name": "ipython",
    "version": 3
   },
   "file_extension": ".py",
   "mimetype": "text/x-python",
   "name": "python",
   "nbconvert_exporter": "python",
   "pygments_lexer": "ipython3",
   "version": "3.7.4"
  }
 },
 "nbformat": 4,
 "nbformat_minor": 2
}
