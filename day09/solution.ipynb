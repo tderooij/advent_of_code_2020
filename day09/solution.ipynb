{
 "cells": [
  {
   "cell_type": "code",
   "execution_count": null,
   "metadata": {},
   "outputs": [],
   "source": [
    "# Read input\n",
    "words = readlines(\"input.txt\");\n",
    "pa_size = 25;  # test has size 5, real 25\n",
    "\n",
    "numbers = [parse(Int64, x) for x in words];"
   ]
  },
  {
   "cell_type": "code",
   "execution_count": null,
   "metadata": {},
   "outputs": [],
   "source": [
    "function find_sum(total, preamble)\n",
    "    search = [total - n for n in preamble]\n",
    "    to_find = intersect(preamble, search)\n",
    "#     println(search, \" \", to_find, \" \", preamble)\n",
    "    return (length(to_find) > 1)\n",
    "end"
   ]
  },
  {
   "cell_type": "code",
   "execution_count": null,
   "metadata": {},
   "outputs": [],
   "source": [
    "for i in pa_size:length(numbers)\n",
    "    preamble = numbers[i-pa_size+1:i]\n",
    "    if !find_sum(numbers[i+1], preamble)\n",
    "        print(numbers[i+1])\n",
    "        break\n",
    "    else\n",
    "        continue\n",
    "    end\n",
    "end"
   ]
  }
 ],
 "metadata": {
  "kernelspec": {
   "display_name": "Julia 1.5.3",
   "language": "julia",
   "name": "julia-1.5"
  },
  "language_info": {
   "file_extension": ".jl",
   "mimetype": "application/julia",
   "name": "julia",
   "version": "1.5.3"
  }
 },
 "nbformat": 4,
 "nbformat_minor": 2
}
