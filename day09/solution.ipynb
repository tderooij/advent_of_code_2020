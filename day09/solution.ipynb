{
 "cells": [
  {
   "cell_type": "code",
   "execution_count": null,
   "metadata": {},
   "outputs": [],
   "source": [
    "# Read input\n",
    "words = readlines(\"test.txt\");\n",
    "pa_size = 5;  # test has size 5, real 25\n",
    "\n",
    "numbers = [parse(Int64, x) for x in words];"
   ]
  },
  {
   "cell_type": "code",
   "execution_count": null,
   "metadata": {},
   "outputs": [],
   "source": [
    "function find_sum(total, preamble)\n",
    "    search = [total - n for n in preamble]\n",
    "    to_find = intersect(preamble, search)\n",
    "#     println(search, \" \", to_find, \" \", preamble)\n",
    "    return (length(to_find) > 1)\n",
    "end"
   ]
  },
  {
   "cell_type": "code",
   "execution_count": null,
   "metadata": {},
   "outputs": [],
   "source": [
    "for i in pa_size:length(numbers)\n",
    "    preamble = numbers[i-pa_size+1:i]\n",
    "    if !find_sum(numbers[i+1], preamble)\n",
    "        println(i+1)\n",
    "        println(numbers[i+1])\n",
    "        break\n",
    "    else\n",
    "        continue\n",
    "    end\n",
    "end"
   ]
  },
  {
   "cell_type": "code",
   "execution_count": null,
   "metadata": {},
   "outputs": [],
   "source": [
    "function find_summed(total, numbers)\n",
    "    for i in 2:length(numbers)\n",
    "        if total == sum(numbers[1:i])\n",
    "            return numbers[1:i]\n",
    "        elseif total < sum(numbers[1:i])\n",
    "            return nothing\n",
    "        end\n",
    "    end\n",
    "    return nothing\n",
    "end"
   ]
  },
  {
   "cell_type": "code",
   "execution_count": null,
   "metadata": {},
   "outputs": [],
   "source": [
    "total = 127\n",
    "max_i = 15\n",
    "println(total == numbers[max_i])\n",
    "for i in 1:max_i\n",
    "    outcome = find_summed(total, numbers[i:max_i])\n",
    "    if !(outcome == nothing)\n",
    "        println(minimum(outcome) + maximum(outcome))\n",
    "        break\n",
    "    end\n",
    "end"
   ]
  }
 ],
 "metadata": {
  "kernelspec": {
   "display_name": "Julia 1.5.3",
   "language": "julia",
   "name": "julia-1.5"
  },
  "language_info": {
   "file_extension": ".jl",
   "mimetype": "application/julia",
   "name": "julia",
   "version": "1.5.3"
  }
 },
 "nbformat": 4,
 "nbformat_minor": 2
}
