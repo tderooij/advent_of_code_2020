{
 "cells": [
  {
   "cell_type": "code",
   "execution_count": null,
   "metadata": {},
   "outputs": [],
   "source": [
    "using LinearAlgebra"
   ]
  },
  {
   "cell_type": "code",
   "execution_count": null,
   "metadata": {},
   "outputs": [],
   "source": [
    "# Read input\n",
    "words = readlines(\"input.txt\");"
   ]
  },
  {
   "cell_type": "code",
   "execution_count": null,
   "metadata": {},
   "outputs": [],
   "source": [
    "seats = zeros(Bool, length(words), length(words[1]));\n",
    "occupied = zeros(Bool, length(words), length(words[1]));"
   ]
  },
  {
   "cell_type": "code",
   "execution_count": null,
   "metadata": {},
   "outputs": [],
   "source": [
    "i = 1\n",
    "for line in words\n",
    "    seats[i, :] = transpose([w == \"L\"[1] for w in line])\n",
    "    i += 1\n",
    "end"
   ]
  },
  {
   "cell_type": "code",
   "execution_count": null,
   "metadata": {},
   "outputs": [],
   "source": [
    "function reoccupy(seats, occupied)\n",
    "    occupied_next = copy(occupied)\n",
    "    for coord in findall(x -> x == true, seats)\n",
    "        r1 = maximum([1, coord[1] - 1])\n",
    "        r2 = minimum([size(seats)[1], coord[1] + 1])\n",
    "        c1 = maximum([1, coord[2] - 1])\n",
    "        c2 = minimum([size(seats)[2], coord[2] + 1])\n",
    "        \n",
    "        # Seat location is empty\n",
    "        prev_value = occupied[coord[1], coord[2]]\n",
    "        occupied[coord[1], coord[2]] = false\n",
    "        temp = occupied[r1:r2, c1:c2]\n",
    "        occupied[coord[1], coord[2]] = prev_value\n",
    "\n",
    "        # If the seat is empty and there are no occupied seats\n",
    "        # adjacent to it, it becomes occupied\n",
    "        if occupied[coord[1], coord[2]] == false\n",
    "            if sum(temp) == 0\n",
    "                occupied_next[coord[1], coord[2]] = true\n",
    "            end\n",
    "        end\n",
    "\n",
    "        # If there are 4 or more seats occupied adjecent to an occupied seat\n",
    "        # it becomes unoccupied\n",
    "        if occupied[coord[1], coord[2]] == true\n",
    "            if sum(temp) >= 4\n",
    "                occupied_next[coord[1], coord[2]] = false\n",
    "            end\n",
    "        end\n",
    "    end\n",
    "    \n",
    "    return occupied_next\n",
    "end"
   ]
  },
  {
   "cell_type": "code",
   "execution_count": null,
   "metadata": {},
   "outputs": [],
   "source": [
    "sum_new = 1\n",
    "occupied = zeros(Bool, length(words), length(words[1]));\n",
    "while true\n",
    "    occupied = reoccupy(seats, occupied)\n",
    "    if sum_new == sum(occupied)\n",
    "        break\n",
    "    else\n",
    "        sum_new = sum(occupied)\n",
    "    end\n",
    "    println(sum_new, \" \", sum(occupied))\n",
    "end"
   ]
  },
  {
   "cell_type": "code",
   "execution_count": null,
   "metadata": {},
   "outputs": [],
   "source": [
    "occupied"
   ]
  }
 ],
 "metadata": {
  "kernelspec": {
   "display_name": "Julia 1.5.3",
   "language": "julia",
   "name": "julia-1.5"
  },
  "language_info": {
   "file_extension": ".jl",
   "mimetype": "application/julia",
   "name": "julia",
   "version": "1.5.3"
  }
 },
 "nbformat": 4,
 "nbformat_minor": 2
}
