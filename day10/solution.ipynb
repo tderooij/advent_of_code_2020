{
 "cells": [
  {
   "cell_type": "code",
   "execution_count": null,
   "metadata": {},
   "outputs": [],
   "source": [
    "using LinearAlgebra"
   ]
  },
  {
   "cell_type": "code",
   "execution_count": null,
   "metadata": {},
   "outputs": [],
   "source": [
    "# Read input\n",
    "words = readlines(\"input.txt\");\n",
    "\n",
    "numbers = [0];\n",
    "\n",
    "append!(numbers, sort([parse(Int64, x) for x in words]));\n",
    "append!(numbers, [maximum(numbers) + 3]);"
   ]
  },
  {
   "cell_type": "code",
   "execution_count": null,
   "metadata": {},
   "outputs": [],
   "source": [
    "A = diagm(0 => -ones(length(numbers)), 1 => ones(length(numbers)-1));"
   ]
  },
  {
   "cell_type": "code",
   "execution_count": null,
   "metadata": {},
   "outputs": [],
   "source": [
    "sol = (A * numbers);"
   ]
  },
  {
   "cell_type": "code",
   "execution_count": null,
   "metadata": {},
   "outputs": [],
   "source": [
    "for el in [1.0, 3.0]\n",
    "    println(\"Diff \", el, \" appears \", sum(sol[1:length(sol)-1] .== el), \" times.\")\n",
    "end"
   ]
  },
  {
   "cell_type": "markdown",
   "metadata": {},
   "source": [
    "Part 2"
   ]
  },
  {
   "cell_type": "code",
   "execution_count": null,
   "metadata": {},
   "outputs": [],
   "source": [
    "reachable = numbers .- transpose(numbers);"
   ]
  },
  {
   "cell_type": "code",
   "execution_count": null,
   "metadata": {},
   "outputs": [],
   "source": [
    "reached = (0 .< reachable .< 4) * 1;\n",
    "for el in reverse(findall(x -> x == 1, reached))\n",
    "    no = sum(reached[:,el[1]])\n",
    "    if no == 0\n",
    "        no = 1\n",
    "    end\n",
    "    reached[el[1], el[2]] = no\n",
    "end"
   ]
  },
  {
   "cell_type": "code",
   "execution_count": null,
   "metadata": {},
   "outputs": [],
   "source": [
    "sum(reached[:,1])"
   ]
  }
 ],
 "metadata": {
  "kernelspec": {
   "display_name": "Julia 1.5.3",
   "language": "julia",
   "name": "julia-1.5"
  },
  "language_info": {
   "file_extension": ".jl",
   "mimetype": "application/julia",
   "name": "julia",
   "version": "1.5.3"
  }
 },
 "nbformat": 4,
 "nbformat_minor": 2
}
