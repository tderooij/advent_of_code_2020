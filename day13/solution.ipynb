{
 "cells": [
  {
   "cell_type": "code",
   "execution_count": null,
   "metadata": {},
   "outputs": [],
   "source": [
    "words = readlines(\"test.txt\");\n",
    "departure = tryparse(Int, words[1]);"
   ]
  },
  {
   "cell_type": "code",
   "execution_count": null,
   "metadata": {},
   "outputs": [],
   "source": [
    "options_x = [tryparse(Int, el) for el in split(words[2], \",\")];\n",
    "options = [el for el in options_x if el != nothing];"
   ]
  },
  {
   "cell_type": "markdown",
   "metadata": {},
   "source": [
    "Solution to part 1"
   ]
  },
  {
   "cell_type": "code",
   "execution_count": null,
   "metadata": {},
   "outputs": [],
   "source": [
    "wait = options .- (departure .% options);"
   ]
  },
  {
   "cell_type": "code",
   "execution_count": null,
   "metadata": {},
   "outputs": [],
   "source": [
    "options[argmin(wait)] * minimum(wait)"
   ]
  },
  {
   "cell_type": "code",
   "execution_count": null,
   "metadata": {},
   "outputs": [],
   "source": [
    "n = 2_000_000;\n",
    "diff = [findall(x->x==el, options_x)[1]-1 for el in options] .% options;"
   ]
  },
  {
   "cell_type": "code",
   "execution_count": null,
   "metadata": {},
   "outputs": [],
   "source": [
    "x = (Array(1:n) .* options[1])\n",
    "@time begin\n",
    "    for i in 2:length(options)\n",
    "        x = x[findall(options[i] .- x .% options[i] .== diff[i])]\n",
    "    end\n",
    "end\n",
    "if length(x) > 0\n",
    "    println(\"Result found!\")\n",
    "    println(x[1])\n",
    "else\n",
    "    println(\"No result :(\")\n",
    "end"
   ]
  }
 ],
 "metadata": {
  "kernelspec": {
   "display_name": "Julia 1.5.3",
   "language": "julia",
   "name": "julia-1.5"
  },
  "language_info": {
   "file_extension": ".jl",
   "mimetype": "application/julia",
   "name": "julia",
   "version": "1.5.3"
  }
 },
 "nbformat": 4,
 "nbformat_minor": 4
}
